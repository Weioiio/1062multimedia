{
 "cells": [
  {
   "cell_type": "code",
   "execution_count": null,
   "metadata": {},
   "outputs": [],
   "source": [
    "from skimage import  io\n",
    "import matplotlib.pyplot as plt\n",
    "def edgeDetection(image,thre):\n",
    "    rows,cols,dims=image.shape\n",
    "    for i in range(0,rows-1):\n",
    "        for j in range(0,cols-1):\n",
    "            sum = 0\n",
    "            sum_rightBottom = 0\n",
    "            for k in range(0,3):\n",
    "                sum = sum + image[i,j,k]\n",
    "                sum_rightBottom = sum_rightBottom + image[i+1,j+1,k]\n",
    "            dif = abs(sum_rightBottom - sum)\n",
    "            if dif > thre:\n",
    "                value = 0\n",
    "            else:\n",
    "                value = 255    \n",
    "            for k in range(0,3):\n",
    "                image[i,j,k] = value\n",
    "    return image\n",
    "\n",
    "img=io.imread('scene.jpg')\n",
    "threshold = 50\n",
    "\n",
    "plt.figure(num='scene', figsize=(20,20))\n",
    "plt.subplot(1,2,1)     \n",
    "plt.title('origin image')  \n",
    "plt.imshow(img)\n",
    "img2 = edgeDetection(img, threshold)\n",
    "plt.subplot(1,2,2)     \n",
    "plt.title('edge detected image')\n",
    "plt.imshow(img2)\n",
    "plt.show()"
   ]
  }
 ],
 "metadata": {
  "kernelspec": {
   "display_name": "Python 3",
   "language": "python",
   "name": "python3"
  },
  "language_info": {
   "codemirror_mode": {
    "name": "ipython",
    "version": 3
   },
   "file_extension": ".py",
   "mimetype": "text/x-python",
   "name": "python",
   "nbconvert_exporter": "python",
   "pygments_lexer": "ipython3",
   "version": "3.6.5"
  }
 },
 "nbformat": 4,
 "nbformat_minor": 2
}
